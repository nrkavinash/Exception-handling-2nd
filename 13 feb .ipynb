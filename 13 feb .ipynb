{
 "cells": [
  {
   "cell_type": "markdown",
   "id": "fdc471a6-3a4f-44b4-a6af-4fcc21615ce6",
   "metadata": {},
   "source": [
    "# Q1 Answer"
   ]
  },
  {
   "cell_type": "code",
   "execution_count": 4,
   "id": "709fc108-2da9-470b-b8a5-d04f7e208d7c",
   "metadata": {},
   "outputs": [],
   "source": [
    "# While Creating Custom Class\n",
    "class validateage(Exception) : ## here Exception class is inbuilt in python,creating inheritance of Exception class inside custom exception\n",
    "    def __init__(self, msg) :\n",
    "        self.msg = msg\n",
    "        \n",
    "#this is our own class"
   ]
  },
  {
   "cell_type": "code",
   "execution_count": 5,
   "id": "66320c53-67f8-44e0-907e-e26ee6221256",
   "metadata": {},
   "outputs": [],
   "source": [
    "def validate_age(age) : ## created function\n",
    "    if age < 0 : \n",
    "        raise validateage(\"age should not be lesser then zeor \" )\n",
    "    ## raise is reserved keyword which is used to call custom class\n",
    "    elif age > 200 : \n",
    "        raise validateage(\"age is too high \" )\n",
    "        \n",
    "    else :\n",
    "        print(\"age is valid\" )\n",
    "        \n",
    "## this is one of the function,based on this condition it is calling our custom class with custom message"
   ]
  },
  {
   "cell_type": "code",
   "execution_count": 6,
   "id": "57060b05-309d-4656-8e2f-0a5537539ca4",
   "metadata": {},
   "outputs": [
    {
     "name": "stdin",
     "output_type": "stream",
     "text": [
      "enter your age 25\n"
     ]
    },
    {
     "name": "stdout",
     "output_type": "stream",
     "text": [
      "age is valid\n"
     ]
    }
   ],
   "source": [
    "try : \n",
    "    age = int(input(\"enter your age\"))\n",
    "    validate_age(age)\n",
    "except validateage as e : \n",
    "    print(e)"
   ]
  },
  {
   "cell_type": "code",
   "execution_count": 7,
   "id": "2177f3fd-71e3-4f42-8d40-c62c493c9c7d",
   "metadata": {},
   "outputs": [
    {
     "name": "stdin",
     "output_type": "stream",
     "text": [
      "enter your age 3697\n"
     ]
    },
    {
     "name": "stdout",
     "output_type": "stream",
     "text": [
      "age is too high \n"
     ]
    }
   ],
   "source": [
    "try : \n",
    "    age = int(input(\"enter your age\"))\n",
    "    validate_age(age)\n",
    "except validateage as e : \n",
    "    print(e)"
   ]
  },
  {
   "cell_type": "markdown",
   "id": "ad507bc2-47ef-46a3-a58f-450f2721f37d",
   "metadata": {},
   "source": [
    "## Q2. Answer python program to print Python Exception Hierarchy."
   ]
  },
  {
   "cell_type": "code",
   "execution_count": 8,
   "id": "c4b262b9-8b11-4c04-ba4d-a2aed46d4771",
   "metadata": {},
   "outputs": [
    {
     "name": "stdout",
     "output_type": "stream",
     "text": [
      "division by zero\n"
     ]
    }
   ],
   "source": [
    "try :\n",
    "    a = 10 \n",
    "    10/0\n",
    "except ZeroDivisionError as e :\n",
    "    print(e)"
   ]
  },
  {
   "cell_type": "code",
   "execution_count": 9,
   "id": "1f40c930-7eac-452c-822a-d6e4e1a2a7af",
   "metadata": {},
   "outputs": [
    {
     "name": "stdout",
     "output_type": "stream",
     "text": [
      "invalid literal for int() with base 10: 'sudh'\n"
     ]
    }
   ],
   "source": [
    "## valueError and Typeerror\n",
    "\n",
    "try :\n",
    "    int(\"sudh\")\n",
    "except (ValueError , TypeError) as e :\n",
    "    print(e)"
   ]
  },
  {
   "cell_type": "code",
   "execution_count": 10,
   "id": "6425f7df-21fb-40a7-a256-3b26c06ebcc4",
   "metadata": {},
   "outputs": [
    {
     "name": "stdout",
     "output_type": "stream",
     "text": [
      "this will catch an error\n"
     ]
    }
   ],
   "source": [
    "## catch ERROR\n",
    "try :\n",
    "    int(\"avi\")\n",
    "except  :\n",
    "    print(\"this will catch an error\")"
   ]
  },
  {
   "cell_type": "code",
   "execution_count": 11,
   "id": "62938e41-ef21-477c-986e-67763f63301b",
   "metadata": {},
   "outputs": [
    {
     "name": "stdout",
     "output_type": "stream",
     "text": [
      "No module named 'sudh'\n"
     ]
    }
   ],
   "source": [
    "##Import error\n",
    "try :\n",
    "    import sudh\n",
    "except ImportError as e : \n",
    "    print(e)"
   ]
  },
  {
   "cell_type": "code",
   "execution_count": 12,
   "id": "eecf811d-154a-4f39-acf2-2078c06edb83",
   "metadata": {},
   "outputs": [
    {
     "name": "stdout",
     "output_type": "stream",
     "text": [
      "'key10'\n"
     ]
    }
   ],
   "source": [
    "## KEy ERROR\n",
    "\n",
    "try :\n",
    "    d = {1: [3,4,5,6] , \"key\" :\"sudh\"}\n",
    "    d[\"key10\"]\n",
    "except KeyError as e : \n",
    "    print(e)"
   ]
  },
  {
   "cell_type": "code",
   "execution_count": 13,
   "id": "6770f0b9-0ec1-408a-bd05-65a099115d1e",
   "metadata": {},
   "outputs": [
    {
     "name": "stdout",
     "output_type": "stream",
     "text": [
      "'str' object has no attribute 'test'\n"
     ]
    }
   ],
   "source": [
    "## Atribute error\n",
    "try :\n",
    "    \"sudh\".test()\n",
    "except AttributeError as e :\n",
    "    print(e)"
   ]
  },
  {
   "cell_type": "code",
   "execution_count": 14,
   "id": "5215218b-c815-469a-a309-e0953b71906c",
   "metadata": {},
   "outputs": [
    {
     "name": "stdout",
     "output_type": "stream",
     "text": [
      "list index out of range\n"
     ]
    }
   ],
   "source": [
    "## index error\n",
    "try :\n",
    "    l = [1,2,3,3]\n",
    "    l[10]\n",
    "except IndexError as e :\n",
    "    print(e)"
   ]
  },
  {
   "cell_type": "code",
   "execution_count": 15,
   "id": "62047ec4-bd46-4bd2-8787-c15bd861c139",
   "metadata": {},
   "outputs": [
    {
     "name": "stdout",
     "output_type": "stream",
     "text": [
      "[Errno 2] No such file or directory: 'test.txt'\n"
     ]
    }
   ],
   "source": [
    "## filenot found error\n",
    "try :\n",
    "    with open(\"test.txt\" , 'r') as f :\n",
    "        f.read()\n",
    "except FileNotFoundError as e :\n",
    "    print(e)"
   ]
  },
  {
   "cell_type": "code",
   "execution_count": 17,
   "id": "0f85d173-6d52-4fcf-975b-f02962f013ca",
   "metadata": {},
   "outputs": [
    {
     "ename": "NameError",
     "evalue": "name 'logging' is not defined",
     "output_type": "error",
     "traceback": [
      "\u001b[0;31m---------------------------------------------------------------------------\u001b[0m",
      "\u001b[0;31mZeroDivisionError\u001b[0m                         Traceback (most recent call last)",
      "Cell \u001b[0;32mIn[17], line 2\u001b[0m\n\u001b[1;32m      1\u001b[0m \u001b[38;5;28;01mtry\u001b[39;00m :\n\u001b[0;32m----> 2\u001b[0m     \u001b[38;5;241;43m10\u001b[39;49m\u001b[38;5;241;43m/\u001b[39;49m\u001b[38;5;241;43m0\u001b[39;49m\n\u001b[1;32m      3\u001b[0m \u001b[38;5;28;01mexcept\u001b[39;00m \u001b[38;5;167;01mFileNotFoundError\u001b[39;00m \u001b[38;5;28;01mas\u001b[39;00m e : \n",
      "\u001b[0;31mZeroDivisionError\u001b[0m: division by zero",
      "\nDuring handling of the above exception, another exception occurred:\n",
      "\u001b[0;31mNameError\u001b[0m                                 Traceback (most recent call last)",
      "Cell \u001b[0;32mIn[17], line 8\u001b[0m\n\u001b[1;32m      6\u001b[0m     logging\u001b[38;5;241m.\u001b[39merror(\u001b[38;5;124m\"\u001b[39m\u001b[38;5;124mthis is my attribute erro  \u001b[39m\u001b[38;5;132;01m{}\u001b[39;00m\u001b[38;5;124m \u001b[39m\u001b[38;5;124m\"\u001b[39m\u001b[38;5;241m.\u001b[39mformat( e))\n\u001b[1;32m      7\u001b[0m \u001b[38;5;28;01mexcept\u001b[39;00m \u001b[38;5;167;01mZeroDivisionError\u001b[39;00m \u001b[38;5;28;01mas\u001b[39;00m e :\n\u001b[0;32m----> 8\u001b[0m     \u001b[43mlogging\u001b[49m\u001b[38;5;241m.\u001b[39merror(\u001b[38;5;124m\"\u001b[39m\u001b[38;5;124mthis is my zero dedision error i am handling \u001b[39m\u001b[38;5;132;01m{}\u001b[39;00m\u001b[38;5;124m \u001b[39m\u001b[38;5;124m\"\u001b[39m\u001b[38;5;241m.\u001b[39mformat( e))\n",
      "\u001b[0;31mNameError\u001b[0m: name 'logging' is not defined"
     ]
    }
   ],
   "source": [
    "try :\n",
    "    10/0\n",
    "except FileNotFoundError as e : \n",
    "    logging.error(\"this is my file not found  {} \".format( e))\n",
    "except AttributeError as e : \n",
    "    logging.error(\"this is my attribute erro  {} \".format( e))\n",
    "except ZeroDivisionError as e :\n",
    "    logging.error(\"this is my zero dedision error i am handling {} \".format( e))"
   ]
  },
  {
   "cell_type": "code",
   "execution_count": 19,
   "id": "20d8e004-4ef3-487d-b1a8-bab85dd89aa3",
   "metadata": {},
   "outputs": [],
   "source": [
    "try :\n",
    "    with open(\"test.txt\" , \"w\" ) as f :\n",
    "        f.write(\"thsi is my msg to file \" )\n",
    "except FileNotFoundError as e : \n",
    "     logging.error(\"this is my file not found  {} \".format( e))\n",
    "finally : \n",
    "    f.close()"
   ]
  },
  {
   "cell_type": "markdown",
   "id": "8b3ab840-ba1b-4fa9-bc38-a4af6fc10666",
   "metadata": {},
   "source": [
    "## Q3.ANSWER there are 3 different types of arithmetic errors"
   ]
  },
  {
   "cell_type": "code",
   "execution_count": 22,
   "id": "0506d610-dea8-4a49-b28d-233e52aaeba6",
   "metadata": {},
   "outputs": [
    {
     "name": "stdout",
     "output_type": "stream",
     "text": [
      "ZeroDivision Error: division by zero\n"
     ]
    }
   ],
   "source": [
    "## Zerodivision error\n",
    "\n",
    "try :\n",
    "    a = 10 \n",
    "    10/0\n",
    "except ZeroDivisionError as e :\n",
    "    print(\"ZeroDivision Error:\",e)"
   ]
  },
  {
   "cell_type": "code",
   "execution_count": 23,
   "id": "767100be-ff5d-4b1e-aa71-fa49134aab20",
   "metadata": {},
   "outputs": [
    {
     "name": "stdout",
     "output_type": "stream",
     "text": [
      "(34, 'Numerical result out of range'), <class 'OverflowError'>\n"
     ]
    }
   ],
   "source": [
    "## over flow error\n",
    "\n",
    "j = 5.0\n",
    "\n",
    "try:\n",
    "    for i in range(1, 1000):\n",
    "        j = j**i\n",
    "except ArithmeticError as e:\n",
    "    print(f\"{e}, {e.__class__}\")"
   ]
  },
  {
   "cell_type": "code",
   "execution_count": null,
   "id": "929e0f23-218b-4f99-8e0c-51bb0027ba00",
   "metadata": {},
   "outputs": [],
   "source": [
    "## fLOATING POINT ERROR"
   ]
  },
  {
   "cell_type": "markdown",
   "id": "fb8ad68e-e403-4b50-96a6-ea8ccddaf658",
   "metadata": {},
   "source": [
    "# Q4 ANSWER\n",
    "\n",
    "\n",
    "## lOOK uP error exception\n",
    "## INDEX ERROR\n",
    "## KEY ERROR\n",
    "\n"
   ]
  },
  {
   "cell_type": "code",
   "execution_count": 24,
   "id": "31c2dff8-ee3e-45a5-8df9-8e7343cdbad4",
   "metadata": {},
   "outputs": [
    {
     "name": "stdout",
     "output_type": "stream",
     "text": [
      "'key10'\n"
     ]
    }
   ],
   "source": [
    "## KEY ERROR\n",
    "try :\n",
    "    d = {1: [3,4,5,6] , \"key\" :\"sudh\"}\n",
    "    d[\"key10\"]\n",
    "except KeyError as e : \n",
    "    print(e)"
   ]
  },
  {
   "cell_type": "code",
   "execution_count": 25,
   "id": "fd4e900b-b619-4e7e-94b9-89255c9ea854",
   "metadata": {},
   "outputs": [
    {
     "name": "stdout",
     "output_type": "stream",
     "text": [
      "list index out of range\n"
     ]
    }
   ],
   "source": [
    "## Index ERROR\n",
    "try :\n",
    "    l = [1,2,3,3]\n",
    "    l[10]\n",
    "except IndexError as e :\n",
    "    print(e)"
   ]
  },
  {
   "cell_type": "markdown",
   "id": "f9d96ee7-7e22-4981-8b74-b0241b1704ed",
   "metadata": {},
   "source": [
    "## Q5.ANSWER\n",
    "\n",
    "## Module not found Error"
   ]
  },
  {
   "cell_type": "code",
   "execution_count": 27,
   "id": "b06bf2ed-06ba-44c2-aab8-9694912a2051",
   "metadata": {},
   "outputs": [
    {
     "name": "stdout",
     "output_type": "stream",
     "text": [
      "module not found error No module named 'Avin'\n"
     ]
    }
   ],
   "source": [
    "try :\n",
    "    import Avin\n",
    "except ImportError as e : \n",
    "    print(\"module not found error\",e)"
   ]
  },
  {
   "cell_type": "code",
   "execution_count": 29,
   "id": "1dea16c0-aa06-4099-a7df-d8238d40ce30",
   "metadata": {},
   "outputs": [],
   "source": [
    "## Catch specific exception type"
   ]
  },
  {
   "cell_type": "code",
   "execution_count": 28,
   "id": "3da5fd00-595e-404c-b241-b75935aa16c9",
   "metadata": {},
   "outputs": [
    {
     "name": "stdout",
     "output_type": "stream",
     "text": [
      "Error: [Errno 2] No such file or directory: 'no-file'\n",
      "Code: 2\n"
     ]
    }
   ],
   "source": [
    "try:\n",
    "    # Intentionally raise an error.\n",
    "    f = open(\"no-file\")\n",
    "except IOError as err:\n",
    "    # Creating IOError instance for book keeping.\n",
    "    print(\"Error:\", err)\n",
    "    print(\"Code:\", err.errno)"
   ]
  },
  {
   "cell_type": "markdown",
   "id": "c1af2083-df12-49cd-9c41-b9bc7cc1ff42",
   "metadata": {},
   "source": [
    "## Q6.ANSWER some best practices for exception handling"
   ]
  },
  {
   "cell_type": "code",
   "execution_count": 30,
   "id": "1d596d07-ca0b-4326-ab68-923b590614f8",
   "metadata": {},
   "outputs": [
    {
     "name": "stdout",
     "output_type": "stream",
     "text": [
      "Error occurred\n",
      "The [finally clause] is hit\n"
     ]
    }
   ],
   "source": [
    "## finally clause use\n",
    "\n",
    "\n",
    "try:\n",
    "    # Intentionally raise an error.\n",
    "    x = 1 / 0\n",
    "except:\n",
    "    # Except clause:\n",
    "    print(\"Error occurred\")\n",
    "finally:\n",
    "    # Finally clause:\n",
    "    print(\"The [finally clause] is hit\")"
   ]
  },
  {
   "cell_type": "code",
   "execution_count": 31,
   "id": "abdb823f-2748-47c1-b117-dfcc8562cf78",
   "metadata": {},
   "outputs": [
    {
     "name": "stdout",
     "output_type": "stream",
     "text": [
      "Inside the except block: ValueError('Intentional - best city for leaving')\n"
     ]
    }
   ],
   "source": [
    "## raise exceeeption using\n",
    "\n",
    "def hyd_exception():\n",
    "    try:\n",
    "        raise ValueError('Intentional - best city for leaving')\n",
    "        raise Exception('Cleaning of hyd is important')\n",
    "    except Exception as error:\n",
    "        print('Inside the except block: ' + repr(error))\n",
    "        \n",
    "hyd_exception()"
   ]
  },
  {
   "cell_type": "code",
   "execution_count": 36,
   "id": "aec877b1-58ae-41db-ad7f-b16a707e4a99",
   "metadata": {},
   "outputs": [],
   "source": [
    "#always try to log \n",
    "import logging\n",
    "logging.basicConfig(filename = \"error.log\" , level = logging.ERROR)\n",
    "try :\n",
    "    10/0\n",
    "except ZeroDivisionError as e :\n",
    "    logging.error(\"this is my zero dedision error i am handling {} \".format(e))"
   ]
  },
  {
   "cell_type": "code",
   "execution_count": 37,
   "id": "e4cbf7b8-a459-4a8e-b35f-4c2d99987ee7",
   "metadata": {},
   "outputs": [],
   "source": [
    "logging.shutdown()"
   ]
  },
  {
   "cell_type": "code",
   "execution_count": 33,
   "id": "b18a7870-8790-4030-a4ea-722216588f2f",
   "metadata": {},
   "outputs": [
    {
     "name": "stdout",
     "output_type": "stream",
     "text": [
      "this is my zero dedision error i am handling  division by zero\n"
     ]
    }
   ],
   "source": [
    "#print always a valid msg\n",
    "try :\n",
    "    10/0\n",
    "except ZeroDivisionError as e :\n",
    "    print(\"this is my zero dedision error i am handling \" , e)"
   ]
  },
  {
   "cell_type": "code",
   "execution_count": null,
   "id": "8ede9056-6b81-4927-9716-08827b286173",
   "metadata": {},
   "outputs": [],
   "source": []
  }
 ],
 "metadata": {
  "kernelspec": {
   "display_name": "Python 3 (ipykernel)",
   "language": "python",
   "name": "python3"
  },
  "language_info": {
   "codemirror_mode": {
    "name": "ipython",
    "version": 3
   },
   "file_extension": ".py",
   "mimetype": "text/x-python",
   "name": "python",
   "nbconvert_exporter": "python",
   "pygments_lexer": "ipython3",
   "version": "3.10.8"
  }
 },
 "nbformat": 4,
 "nbformat_minor": 5
}
